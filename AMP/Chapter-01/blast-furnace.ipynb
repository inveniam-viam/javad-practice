{
 "cells": [
  {
   "cell_type": "code",
   "execution_count": 1,
   "id": "fdda6814",
   "metadata": {},
   "outputs": [],
   "source": [
    "import gurobipy as gb\n",
    "from gurobipy import *"
   ]
  },
  {
   "cell_type": "code",
   "execution_count": 2,
   "id": "2ae18a5f",
   "metadata": {
    "scrolled": true
   },
   "outputs": [
    {
     "name": "stdout",
     "output_type": "stream",
     "text": [
      "Set parameter Username\n",
      "Academic license - for non-commercial use only - expires 2024-08-30\n"
     ]
    }
   ],
   "source": [
    "foundry_model = gb.Model(\"Charging a Blast Furnace\")"
   ]
  },
  {
   "cell_type": "code",
   "execution_count": 3,
   "id": "0e7c9f6d",
   "metadata": {},
   "outputs": [],
   "source": [
    "Materials = [\"Pig Iron A\", \"Pig Iron B\", \"Pig Iron C\", \"Manganese\"]"
   ]
  },
  {
   "cell_type": "code",
   "execution_count": 4,
   "id": "a4fa34de",
   "metadata": {},
   "outputs": [],
   "source": [
    "# the values here are costs / thousand pounds\n",
    "Costs = [26, 30, 20, 8000]"
   ]
  },
  {
   "cell_type": "code",
   "execution_count": 5,
   "id": "d7bc0660",
   "metadata": {},
   "outputs": [],
   "source": [
    "# the values here are in percentages\n",
    "Silicon = [4, 1, 0.6, 0]\n",
    "Manganese = [0.45, 0.5, 0.4, 100]"
   ]
  },
  {
   "cell_type": "code",
   "execution_count": 6,
   "id": "ab99f76f",
   "metadata": {},
   "outputs": [],
   "source": [
    "# Setting up Decision Variables\n",
    "X = foundry_model.addVars(len(Materials), vtype = GRB.CONTINUOUS, lb = 0, name = [f\"Amount of {i} (in thousands of pounds)\" for i in Materials])"
   ]
  },
  {
   "cell_type": "code",
   "execution_count": 7,
   "id": "fdff9195",
   "metadata": {},
   "outputs": [],
   "source": [
    "revenues = 1000 * 0.45 "
   ]
  },
  {
   "cell_type": "code",
   "execution_count": 8,
   "id": "87c03761",
   "metadata": {},
   "outputs": [],
   "source": [
    "costs = gb.quicksum(X[i] * Costs[i] for i in range(len(Materials)))"
   ]
  },
  {
   "cell_type": "code",
   "execution_count": 9,
   "id": "3ec36626",
   "metadata": {},
   "outputs": [],
   "source": [
    "profit = revenues - costs"
   ]
  },
  {
   "cell_type": "code",
   "execution_count": 10,
   "id": "7387abed",
   "metadata": {},
   "outputs": [],
   "source": [
    "# Setting up Objective Function - Maximize Profit\n",
    "\n",
    "foundry_model.setObjective(profit, GRB.MAXIMIZE)"
   ]
  },
  {
   "cell_type": "code",
   "execution_count": null,
   "id": "a7a5c785",
   "metadata": {},
   "outputs": [],
   "source": [
    "# Setting up constraints\n",
    "\n"
   ]
  }
 ],
 "metadata": {
  "kernelspec": {
   "display_name": "Python 3 (ipykernel)",
   "language": "python",
   "name": "python3"
  },
  "language_info": {
   "codemirror_mode": {
    "name": "ipython",
    "version": 3
   },
   "file_extension": ".py",
   "mimetype": "text/x-python",
   "name": "python",
   "nbconvert_exporter": "python",
   "pygments_lexer": "ipython3",
   "version": "3.9.6"
  }
 },
 "nbformat": 4,
 "nbformat_minor": 5
}
