{
 "cells": [
  {
   "cell_type": "code",
   "execution_count": 1,
   "id": "d7e682b4",
   "metadata": {},
   "outputs": [],
   "source": [
    "import gurobipy as gb\n",
    "from gurobipy import *"
   ]
  },
  {
   "cell_type": "code",
   "execution_count": 2,
   "id": "e0d8cac4",
   "metadata": {},
   "outputs": [
    {
     "name": "stdout",
     "output_type": "stream",
     "text": [
      "Set parameter Username\n",
      "Academic license - for non-commercial use only - expires 2024-08-30\n"
     ]
    }
   ],
   "source": [
    "portfolio = gb.Model(\"AMP C1 - Portfolio Selection\")"
   ]
  },
  {
   "cell_type": "code",
   "execution_count": 5,
   "id": "e2d91129",
   "metadata": {},
   "outputs": [],
   "source": [
    "Bonds = [\"A\", \"B\", \"C\", \"D\", \"E\"]"
   ]
  },
  {
   "cell_type": "code",
   "execution_count": 6,
   "id": "bbe60b0c",
   "metadata": {},
   "outputs": [],
   "source": [
    "# setting up decision variables\n",
    "\n",
    "X = portfolio.addVars(5, vtype = GRB.CONTINUOUS, lb = 0, ub = 10, name = [f\"Amount of money (in M $) invested in {i}\" for i in Bonds])"
   ]
  },
  {
   "cell_type": "code",
   "execution_count": 7,
   "id": "2fbb6ae8",
   "metadata": {},
   "outputs": [],
   "source": [
    "# setting up objective function - maximize post-tax yield\n",
    "\n",
    "yield_exp = (0.043 * X[0]) + (0.027 * X[1]) + (0.025 * X[2]) + (0.022 * X[3]) + (0.045 * X[4])"
   ]
  },
  {
   "cell_type": "code",
   "execution_count": 9,
   "id": "68b474e7",
   "metadata": {},
   "outputs": [],
   "source": [
    "portfolio.setObjective(yield_exp, GRB.MAXIMIZE)"
   ]
  },
  {
   "cell_type": "code",
   "execution_count": 11,
   "id": "1f35b72e",
   "metadata": {},
   "outputs": [
    {
     "data": {
      "text/plain": [
       "<gurobi.Constr *Awaiting Model Update*>"
      ]
     },
     "execution_count": 11,
     "metadata": {},
     "output_type": "execute_result"
    }
   ],
   "source": [
    "# initializing constraints\n",
    "\n",
    "# 10 million budget constraint\n",
    "\n",
    "portfolio.addConstr(sum(X[i] for i in range(len(Bonds))) <= 10)\n",
    "\n",
    "# government-agency bond investment requirement\n",
    "\n",
    "portfolio.addConstr(X[1] + X[2] + X[3] >= 4)\n",
    "\n",
    "# average quality of portfolio\n",
    "\n",
    "quality_exp = (0.6 * X[0]) + (0.6 * X[1]) - (0.4 * X[2]) - (0.4 * X[3]) + (3.6 * X[4])\n",
    "\n",
    "portfolio.addConstr(quality_exp <= 0)\n",
    "\n",
    "# average years to maturity of portfolio\n",
    "\n",
    "maturity_exp = (4 * X[0]) + (10 * X[1]) - X[2] - (2 * X[3]) - (3 * X[4])\n",
    "\n",
    "portfolio.addConstr(maturity_exp <= 0)"
   ]
  },
  {
   "cell_type": "code",
   "execution_count": 13,
   "id": "e079605c",
   "metadata": {},
   "outputs": [
    {
     "name": "stdout",
     "output_type": "stream",
     "text": [
      "Gurobi Optimizer version 10.0.2 build v10.0.2rc0 (mac64[arm])\n",
      "\n",
      "CPU model: Apple M1 Pro\n",
      "Thread count: 10 physical cores, 10 logical processors, using up to 10 threads\n",
      "\n",
      "Optimize a model with 4 rows, 5 columns and 18 nonzeros\n",
      "Model fingerprint: 0x7168cb78\n",
      "Coefficient statistics:\n",
      "  Matrix range     [4e-01, 1e+01]\n",
      "  Objective range  [2e-02, 4e-02]\n",
      "  Bounds range     [1e+01, 1e+01]\n",
      "  RHS range        [4e+00, 1e+01]\n",
      "Presolve time: 0.01s\n",
      "Presolved: 4 rows, 5 columns, 18 nonzeros\n",
      "\n",
      "Iteration    Objective       Primal Inf.    Dual Inf.      Time\n",
      "       0    4.5000000e-01   5.500000e+00   0.000000e+00      0s\n",
      "       2    2.9836364e-01   0.000000e+00   0.000000e+00      0s\n",
      "\n",
      "Solved in 2 iterations and 0.01 seconds (0.00 work units)\n",
      "Optimal objective  2.983636364e-01\n"
     ]
    }
   ],
   "source": [
    "portfolio.optimize()"
   ]
  },
  {
   "cell_type": "code",
   "execution_count": 14,
   "id": "a3071adf",
   "metadata": {},
   "outputs": [
    {
     "data": {
      "text/plain": [
       "0.29836363636363633"
      ]
     },
     "execution_count": 14,
     "metadata": {},
     "output_type": "execute_result"
    }
   ],
   "source": [
    "portfolio.objVal"
   ]
  },
  {
   "cell_type": "code",
   "execution_count": 15,
   "id": "5908d33f",
   "metadata": {},
   "outputs": [
    {
     "name": "stdout",
     "output_type": "stream",
     "text": [
      "Amount of money (in M $) invested in A = 2.1818181818181817\n",
      "Amount of money (in M $) invested in B = 0.0\n",
      "Amount of money (in M $) invested in C = 7.363636363636363\n",
      "Amount of money (in M $) invested in D = 0.0\n",
      "Amount of money (in M $) invested in E = 0.45454545454545453\n"
     ]
    }
   ],
   "source": [
    "for v in portfolio.getVars():\n",
    "    print(v.varName, \"=\", v.x)"
   ]
  },
  {
   "cell_type": "code",
   "execution_count": null,
   "id": "6c0c3181",
   "metadata": {},
   "outputs": [],
   "source": []
  }
 ],
 "metadata": {
  "kernelspec": {
   "display_name": "Python 3 (ipykernel)",
   "language": "python",
   "name": "python3"
  },
  "language_info": {
   "codemirror_mode": {
    "name": "ipython",
    "version": 3
   },
   "file_extension": ".py",
   "mimetype": "text/x-python",
   "name": "python",
   "nbconvert_exporter": "python",
   "pygments_lexer": "ipython3",
   "version": "3.9.6"
  }
 },
 "nbformat": 4,
 "nbformat_minor": 5
}
