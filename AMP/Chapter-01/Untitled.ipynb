{
 "cells": [
  {
   "cell_type": "code",
   "execution_count": 1,
   "id": "4ddee330",
   "metadata": {},
   "outputs": [],
   "source": [
    "import gurobipy as gb\n",
    "from gurobipy import *"
   ]
  },
  {
   "cell_type": "code",
   "execution_count": 2,
   "id": "0bc3fc9d",
   "metadata": {},
   "outputs": [
    {
     "name": "stdout",
     "output_type": "stream",
     "text": [
      "Set parameter Username\n",
      "Academic license - for non-commercial use only - expires 2024-08-30\n"
     ]
    }
   ],
   "source": [
    "glasses = gb.Model(\"Custom Molder Problem\")"
   ]
  },
  {
   "cell_type": "code",
   "execution_count": 4,
   "id": "16435127",
   "metadata": {},
   "outputs": [],
   "source": [
    "# set decision variables\n",
    "X = glasses.addVars(2, vtype = GRB.INTEGER, lb = 0, name = [f\"Number of glasses of type {i}\" for i in range(1,3)])"
   ]
  },
  {
   "cell_type": "code",
   "execution_count": 5,
   "id": "61b85b31",
   "metadata": {},
   "outputs": [],
   "source": [
    "# set objective function\n",
    "\n",
    "exp = (5*X[0]) + (4.5*X[1])\n",
    "\n",
    "glasses.setObjective(exp, GRB.MAXIMIZE)"
   ]
  },
  {
   "cell_type": "code",
   "execution_count": 8,
   "id": "b43f13ee",
   "metadata": {},
   "outputs": [
    {
     "data": {
      "text/plain": [
       "<gurobi.Constr *Awaiting Model Update*>"
      ]
     },
     "execution_count": 8,
     "metadata": {},
     "output_type": "execute_result"
    }
   ],
   "source": [
    "# set constraints\n",
    "\n",
    "glasses.addConstr((10 * X[0]) + (20*X[1]) <= 15000, name = \"Storage Area Constraint\")\n",
    "\n",
    "glasses.addConstr(X[0] <= 800, name = \"Per-week customer limit for 6 oz. glasses\")\n",
    "\n",
    "glasses.addConstr((0.06 * X[0]) + (0.05 * X[1]) <= 60, name = \"Machine operable hours\")"
   ]
  },
  {
   "cell_type": "code",
   "execution_count": 9,
   "id": "12ec381c",
   "metadata": {},
   "outputs": [],
   "source": [
    "glasses.update()"
   ]
  },
  {
   "cell_type": "code",
   "execution_count": 10,
   "id": "9d51208c",
   "metadata": {},
   "outputs": [
    {
     "name": "stdout",
     "output_type": "stream",
     "text": [
      "Gurobi Optimizer version 10.0.2 build v10.0.2rc0 (mac64[arm])\n",
      "\n",
      "CPU model: Apple M1 Pro\n",
      "Thread count: 10 physical cores, 10 logical processors, using up to 10 threads\n",
      "\n",
      "Optimize a model with 4 rows, 2 columns and 7 nonzeros\n",
      "Model fingerprint: 0xfd265a4d\n",
      "Variable types: 0 continuous, 2 integer (0 binary)\n",
      "Coefficient statistics:\n",
      "  Matrix range     [5e-02, 2e+01]\n",
      "  Objective range  [4e+00, 5e+00]\n",
      "  Bounds range     [0e+00, 0e+00]\n",
      "  RHS range        [6e+01, 2e+04]\n",
      "Found heuristic solution: objective 5080.0000000\n",
      "Presolve removed 2 rows and 0 columns\n",
      "Presolve time: 0.00s\n",
      "Presolved: 2 rows, 2 columns, 4 nonzeros\n",
      "Variable types: 0 continuous, 2 integer (0 binary)\n",
      "\n",
      "Root relaxation: objective 5.142857e+03, 2 iterations, 0.00 seconds (0.00 work units)\n",
      "\n",
      "    Nodes    |    Current Node    |     Objective Bounds      |     Work\n",
      " Expl Unexpl |  Obj  Depth IntInf | Incumbent    BestBd   Gap | It/Node Time\n",
      "\n",
      "     0     0 5142.85714    0    2 5080.00000 5142.85714  1.24%     -    0s\n",
      "H    0     0                    5141.5000000 5142.85714  0.03%     -    0s\n",
      "H    0     0                    5142.0000000 5142.85714  0.02%     -    0s\n",
      "\n",
      "Explored 1 nodes (2 simplex iterations) in 0.03 seconds (0.00 work units)\n",
      "Thread count was 10 (of 10 available processors)\n",
      "\n",
      "Solution count 3: 5142 5141.5 5080 \n",
      "\n",
      "Optimal solution found (tolerance 1.00e-04)\n",
      "Best objective 5.142000000000e+03, best bound 5.142500000000e+03, gap 0.0097%\n"
     ]
    }
   ],
   "source": [
    "glasses.optimize()"
   ]
  },
  {
   "cell_type": "code",
   "execution_count": 12,
   "id": "0d6701c2",
   "metadata": {},
   "outputs": [
    {
     "name": "stdout",
     "output_type": "stream",
     "text": [
      "Number of glasses of type 1 = 645.0\n",
      "Number of glasses of type 2 = 426.0\n"
     ]
    }
   ],
   "source": [
    "for v in glasses.getVars():\n",
    "    \n",
    "    print(v.varName, \"=\", v.x)"
   ]
  },
  {
   "cell_type": "code",
   "execution_count": 13,
   "id": "ef41a684",
   "metadata": {},
   "outputs": [
    {
     "data": {
      "text/plain": [
       "5142.0"
      ]
     },
     "execution_count": 13,
     "metadata": {},
     "output_type": "execute_result"
    }
   ],
   "source": [
    "glasses.objVal"
   ]
  },
  {
   "cell_type": "code",
   "execution_count": null,
   "id": "dfbd55f9",
   "metadata": {},
   "outputs": [],
   "source": []
  }
 ],
 "metadata": {
  "kernelspec": {
   "display_name": "Python 3 (ipykernel)",
   "language": "python",
   "name": "python3"
  },
  "language_info": {
   "codemirror_mode": {
    "name": "ipython",
    "version": 3
   },
   "file_extension": ".py",
   "mimetype": "text/x-python",
   "name": "python",
   "nbconvert_exporter": "python",
   "pygments_lexer": "ipython3",
   "version": "3.9.6"
  }
 },
 "nbformat": 4,
 "nbformat_minor": 5
}
