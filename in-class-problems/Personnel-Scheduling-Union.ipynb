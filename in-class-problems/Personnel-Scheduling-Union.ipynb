{
 "cells": [
  {
   "cell_type": "code",
   "execution_count": 1,
   "id": "19f50cf7",
   "metadata": {},
   "outputs": [],
   "source": [
    "import gurobipy as gb\n",
    "from gurobipy import *"
   ]
  },
  {
   "cell_type": "code",
   "execution_count": 2,
   "id": "5df41f73",
   "metadata": {},
   "outputs": [
    {
     "name": "stdout",
     "output_type": "stream",
     "text": [
      "Set parameter Username\n",
      "Academic license - for non-commercial use only - expires 2024-08-30\n"
     ]
    }
   ],
   "source": [
    "union = gb.Model(\"Union Airways Scheduling\")"
   ]
  },
  {
   "cell_type": "code",
   "execution_count": 4,
   "id": "5744c829",
   "metadata": {},
   "outputs": [],
   "source": [
    "# setting up decision variables\n",
    "S = union.addVars(5, vtype = GRB.INTEGER, lb = 0, name = [f\"Number of Agents for Shift {i}\" for i in range(1,6)])"
   ]
  },
  {
   "cell_type": "code",
   "execution_count": 6,
   "id": "9adff12f",
   "metadata": {},
   "outputs": [],
   "source": [
    "# auxiliary variables\n",
    "X = union.addVars(10, vtype = GRB.INTEGER, lb = 0, name = [f\"Agents in Time Period {i}\" for i in range(1,11)])"
   ]
  },
  {
   "cell_type": "code",
   "execution_count": 7,
   "id": "c5b2958d",
   "metadata": {},
   "outputs": [],
   "source": [
    "# setting up objective function\n",
    "\n",
    "exp = (170 * S[0]) + (160 * S[1]) + (175 * S[2]) + (180 * S[3]) + (195 * S[4])"
   ]
  },
  {
   "cell_type": "code",
   "execution_count": 8,
   "id": "d687aac3",
   "metadata": {},
   "outputs": [],
   "source": [
    "union.setObjective(exp, GRB.MINIMIZE)"
   ]
  },
  {
   "cell_type": "code",
   "execution_count": 10,
   "id": "5f4ce91c",
   "metadata": {},
   "outputs": [
    {
     "data": {
      "text/plain": [
       "{0: <gurobi.Constr *Awaiting Model Update*>,\n",
       " 1: <gurobi.Constr *Awaiting Model Update*>,\n",
       " 2: <gurobi.Constr *Awaiting Model Update*>,\n",
       " 3: <gurobi.Constr *Awaiting Model Update*>,\n",
       " 4: <gurobi.Constr *Awaiting Model Update*>}"
      ]
     },
     "execution_count": 10,
     "metadata": {},
     "output_type": "execute_result"
    }
   ],
   "source": [
    "# adding constraints\n",
    "\n",
    "union.addConstrs(S[i] >= 0 for i in range(5))"
   ]
  },
  {
   "cell_type": "code",
   "execution_count": 11,
   "id": "879168c4",
   "metadata": {},
   "outputs": [
    {
     "data": {
      "text/plain": [
       "<gurobi.Constr *Awaiting Model Update*>"
      ]
     },
     "execution_count": 11,
     "metadata": {},
     "output_type": "execute_result"
    }
   ],
   "source": [
    "union.addConstr(X[0] >= 48)\n",
    "union.addConstr(X[1] >= 79)\n",
    "union.addConstr(X[2] >= 65)\n",
    "union.addConstr(X[3] >= 87)\n",
    "union.addConstr(X[4] >= 64)\n",
    "\n",
    "union.addConstr(X[5] >= 73)\n",
    "union.addConstr(X[6] >= 82)\n",
    "union.addConstr(X[7] >= 43)\n",
    "union.addConstr(X[8] >= 52)\n",
    "union.addConstr(X[9] >= 15)"
   ]
  },
  {
   "cell_type": "code",
   "execution_count": 12,
   "id": "848e6296",
   "metadata": {},
   "outputs": [
    {
     "data": {
      "text/plain": [
       "<gurobi.Constr *Awaiting Model Update*>"
      ]
     },
     "execution_count": 12,
     "metadata": {},
     "output_type": "execute_result"
    }
   ],
   "source": [
    "union.addConstr(S[0] == X[0] + X[1] + X[2] + X[3])"
   ]
  },
  {
   "cell_type": "code",
   "execution_count": 13,
   "id": "8b0cc894",
   "metadata": {},
   "outputs": [
    {
     "data": {
      "text/plain": [
       "<gurobi.Constr *Awaiting Model Update*>"
      ]
     },
     "execution_count": 13,
     "metadata": {},
     "output_type": "execute_result"
    }
   ],
   "source": [
    "# union.addConstr(S[0] == X[0] + X[1] + X[2] + X[3])\n",
    "union.addConstr(S[1] == X[1] + X[2] + X[3] + X[4])\n",
    "union.addConstr(S[2] == X[3] + X[4] + X[5] + X[6])\n",
    "union.addConstr(S[3] == X[5] + X[6] + X[7] + X[8])\n",
    "union.addConstr(S[4] == X[8] + X[9])"
   ]
  },
  {
   "cell_type": "code",
   "execution_count": 14,
   "id": "a80b2729",
   "metadata": {},
   "outputs": [
    {
     "name": "stdout",
     "output_type": "stream",
     "text": [
      "Gurobi Optimizer version 10.0.2 build v10.0.2rc0 (mac64[arm])\n",
      "\n",
      "CPU model: Apple M1 Pro\n",
      "Thread count: 10 physical cores, 10 logical processors, using up to 10 threads\n",
      "\n",
      "Optimize a model with 20 rows, 15 columns and 38 nonzeros\n",
      "Model fingerprint: 0x0bd30ade\n",
      "Variable types: 0 continuous, 15 integer (0 binary)\n",
      "Coefficient statistics:\n",
      "  Matrix range     [1e+00, 1e+00]\n",
      "  Objective range  [2e+02, 2e+02]\n",
      "  Bounds range     [0e+00, 0e+00]\n",
      "  RHS range        [2e+01, 9e+01]\n",
      "Found heuristic solution: objective 206245.00000\n",
      "Presolve removed 20 rows and 15 columns\n",
      "Presolve time: 0.00s\n",
      "Presolve: All rows and columns removed\n",
      "\n",
      "Explored 0 nodes (0 simplex iterations) in 0.03 seconds (0.00 work units)\n",
      "Thread count was 1 (of 10 available processors)\n",
      "\n",
      "Solution count 1: 206245 \n",
      "\n",
      "Optimal solution found (tolerance 1.00e-04)\n",
      "Best objective 2.062450000000e+05, best bound 2.062450000000e+05, gap 0.0000%\n"
     ]
    }
   ],
   "source": [
    "union.optimize()"
   ]
  },
  {
   "cell_type": "code",
   "execution_count": 15,
   "id": "3a1ce0c2",
   "metadata": {},
   "outputs": [
    {
     "name": "stdout",
     "output_type": "stream",
     "text": [
      "Number of Agents for Shift 1 = 279.0\n",
      "Number of Agents for Shift 2 = 295.0\n",
      "Number of Agents for Shift 3 = 306.0\n",
      "Number of Agents for Shift 4 = 250.0\n",
      "Number of Agents for Shift 5 = 67.0\n",
      "Agents in Time Period 1 = 48.0\n",
      "Agents in Time Period 2 = 79.0\n",
      "Agents in Time Period 3 = 65.0\n",
      "Agents in Time Period 4 = 87.0\n",
      "Agents in Time Period 5 = 64.0\n",
      "Agents in Time Period 6 = 73.0\n",
      "Agents in Time Period 7 = 82.0\n",
      "Agents in Time Period 8 = 43.0\n",
      "Agents in Time Period 9 = 52.0\n",
      "Agents in Time Period 10 = 15.0\n"
     ]
    }
   ],
   "source": [
    "for v in union.getVars():\n",
    "    print(v.varName, \"=\", v.x)"
   ]
  },
  {
   "cell_type": "code",
   "execution_count": null,
   "id": "b29de2be",
   "metadata": {},
   "outputs": [],
   "source": []
  }
 ],
 "metadata": {
  "kernelspec": {
   "display_name": "Python 3 (ipykernel)",
   "language": "python",
   "name": "python3"
  },
  "language_info": {
   "codemirror_mode": {
    "name": "ipython",
    "version": 3
   },
   "file_extension": ".py",
   "mimetype": "text/x-python",
   "name": "python",
   "nbconvert_exporter": "python",
   "pygments_lexer": "ipython3",
   "version": "3.9.6"
  }
 },
 "nbformat": 4,
 "nbformat_minor": 5
}
