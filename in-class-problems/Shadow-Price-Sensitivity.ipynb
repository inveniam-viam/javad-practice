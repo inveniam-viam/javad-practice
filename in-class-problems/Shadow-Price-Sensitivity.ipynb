{
 "cells": [
  {
   "cell_type": "code",
   "execution_count": 4,
   "id": "192e8236",
   "metadata": {},
   "outputs": [],
   "source": [
    "import gurobipy as gb\n",
    "from gurobipy import *"
   ]
  },
  {
   "cell_type": "code",
   "execution_count": 5,
   "id": "a98a96fa",
   "metadata": {},
   "outputs": [],
   "source": [
    "model = gb.Model(\"Economic Interpretation\")"
   ]
  },
  {
   "cell_type": "code",
   "execution_count": 6,
   "id": "2bd93bac",
   "metadata": {},
   "outputs": [],
   "source": [
    "# add decision variables\n",
    "Y = model.addVars(5, vtype = GRB.CONTINUOUS, lb = 0)"
   ]
  },
  {
   "cell_type": "code",
   "execution_count": 8,
   "id": "85368b5a",
   "metadata": {},
   "outputs": [],
   "source": [
    "# set objective function\n",
    "\n",
    "exp = (27000 * Y[0]) + (21000 * Y[1]) + (9000 * Y[2]) + (15000 * Y[3]) + (16000 * Y[4])"
   ]
  },
  {
   "cell_type": "code",
   "execution_count": 9,
   "id": "471a4725",
   "metadata": {},
   "outputs": [],
   "source": [
    "model.setObjective(exp, GRB.MINIMIZE)"
   ]
  },
  {
   "cell_type": "code",
   "execution_count": 10,
   "id": "dccd3f8a",
   "metadata": {},
   "outputs": [
    {
     "data": {
      "text/plain": [
       "<gurobi.Constr *Awaiting Model Update*>"
      ]
     },
     "execution_count": 10,
     "metadata": {},
     "output_type": "execute_result"
    }
   ],
   "source": [
    "model.addConstr((1.5*Y[0]) + Y[1] + (0.3 * Y[2]) + Y[3] >= 0.13)"
   ]
  },
  {
   "cell_type": "code",
   "execution_count": 11,
   "id": "dacc0d0b",
   "metadata": {},
   "outputs": [
    {
     "data": {
      "text/plain": [
       "<gurobi.Constr *Awaiting Model Update*>"
      ]
     },
     "execution_count": 11,
     "metadata": {},
     "output_type": "execute_result"
    }
   ],
   "source": [
    "model.addConstr(Y[0] + Y[1] + (0.5*Y[2]) + Y[4] >= 0.10)"
   ]
  },
  {
   "cell_type": "code",
   "execution_count": 12,
   "id": "0ee693d2",
   "metadata": {},
   "outputs": [
    {
     "name": "stdout",
     "output_type": "stream",
     "text": [
      "Gurobi Optimizer version 10.0.2 build v10.0.2rc0 (mac64[arm])\n",
      "\n",
      "CPU model: Apple M1 Pro\n",
      "Thread count: 10 physical cores, 10 logical processors, using up to 10 threads\n",
      "\n",
      "Optimize a model with 2 rows, 5 columns and 8 nonzeros\n",
      "Model fingerprint: 0xec03fd91\n",
      "Coefficient statistics:\n",
      "  Matrix range     [3e-01, 2e+00]\n",
      "  Objective range  [9e+03, 3e+04]\n",
      "  Bounds range     [0e+00, 0e+00]\n",
      "  RHS range        [1e-01, 1e-01]\n",
      "Presolve time: 0.01s\n",
      "Presolved: 2 rows, 5 columns, 8 nonzeros\n",
      "\n",
      "Iteration    Objective       Primal Inf.    Dual Inf.      Time\n",
      "       0    0.0000000e+00   2.300000e-01   0.000000e+00      0s\n",
      "       3    2.4600000e+03   0.000000e+00   0.000000e+00      0s\n",
      "\n",
      "Solved in 3 iterations and 0.01 seconds (0.00 work units)\n",
      "Optimal objective  2.460000000e+03\n"
     ]
    }
   ],
   "source": [
    "model.optimize()"
   ]
  },
  {
   "cell_type": "code",
   "execution_count": 13,
   "id": "b02f7eb7",
   "metadata": {},
   "outputs": [
    {
     "data": {
      "text/plain": [
       "2460.0"
      ]
     },
     "execution_count": 13,
     "metadata": {},
     "output_type": "execute_result"
    }
   ],
   "source": [
    "model.objVal"
   ]
  },
  {
   "cell_type": "code",
   "execution_count": 14,
   "id": "052ed5c1",
   "metadata": {},
   "outputs": [
    {
     "name": "stdout",
     "output_type": "stream",
     "text": [
      "C0 = 0.06\n",
      "C1 = 0.04000000000000001\n",
      "C2 = 0.0\n",
      "C3 = 0.0\n",
      "C4 = 0.0\n"
     ]
    }
   ],
   "source": [
    "for v in model.getVars():\n",
    "    print(v.varName, \"=\", v.x)"
   ]
  },
  {
   "cell_type": "code",
   "execution_count": null,
   "id": "c133eff9",
   "metadata": {},
   "outputs": [],
   "source": []
  }
 ],
 "metadata": {
  "kernelspec": {
   "display_name": "Python 3 (ipykernel)",
   "language": "python",
   "name": "python3"
  },
  "language_info": {
   "codemirror_mode": {
    "name": "ipython",
    "version": 3
   },
   "file_extension": ".py",
   "mimetype": "text/x-python",
   "name": "python",
   "nbconvert_exporter": "python",
   "pygments_lexer": "ipython3",
   "version": "3.9.6"
  }
 },
 "nbformat": 4,
 "nbformat_minor": 5
}
